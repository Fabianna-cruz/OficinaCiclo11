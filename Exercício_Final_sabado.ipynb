{
  "nbformat": 4,
  "nbformat_minor": 0,
  "metadata": {
    "colab": {
      "provenance": [],
      "include_colab_link": true
    },
    "kernelspec": {
      "name": "python3",
      "display_name": "Python 3"
    },
    "language_info": {
      "name": "python"
    }
  },
  "cells": [
    {
      "cell_type": "markdown",
      "metadata": {
        "id": "view-in-github",
        "colab_type": "text"
      },
      "source": [
        "<a href=\"https://colab.research.google.com/github/Fabianna-cruz/OficinaCiclo11/blob/main/Exerc%C3%ADcio_Final_sabado.ipynb\" target=\"_parent\"><img src=\"https://colab.research.google.com/assets/colab-badge.svg\" alt=\"Open In Colab\"/></a>"
      ]
    },
    {
      "cell_type": "markdown",
      "source": [
        "# Contagem de Medalhas\n",
        "\n",
        "Crie um programa que receba o número de medalhas de ouro, prata e bronze de um país nas Olimpíadas e calcule o total de medalhas.\n",
        "Quando escrever 'sair', o programa deverá encerrar e mostrar na tela o ranking de medalhas no formato:"
      ],
      "metadata": {
        "id": "RQN1e5FZY6SZ"
      }
    },
    {
      "cell_type": "code",
      "source": [
        "#Ranking de medalhas:\n",
        "#Brasil: 7 medalhas\n",
        "#França: 6 medalhas\n",
        "#Argentina: 3 medalhas"
      ],
      "metadata": {
        "id": "gCq_KLHzZSzb"
      },
      "execution_count": null,
      "outputs": []
    },
    {
      "cell_type": "code",
      "execution_count": 1,
      "metadata": {
        "id": "AJJhjxiPTd5s",
        "outputId": "0926bb94-569c-4b30-fb43-d09c5957db30",
        "colab": {
          "base_uri": "https://localhost:8080/"
        }
      },
      "outputs": [
        {
          "output_type": "stream",
          "name": "stdout",
          "text": [
            "Digite o nome do país (ou 'sair' para encerrar): Brasil\n",
            "Digite o número de medalhas de ouro: 4\n",
            "Digite o número de medalhas de prata: 6\n",
            "Digite o número de medalhas de bronze: 2\n",
            "Digite o nome do país (ou 'sair' para encerrar): China\n",
            "Digite o número de medalhas de ouro: 4\n",
            "Digite o número de medalhas de prata: 8\n",
            "Digite o número de medalhas de bronze: 9\n",
            "Digite o nome do país (ou 'sair' para encerrar): Sair\n",
            "\n",
            "Ranking de medalhas:\n",
            "1. China - Ouro: 4, Prata: 8, Bronze: 9, Total: 21\n",
            "2. Brasil - Ouro: 4, Prata: 6, Bronze: 2, Total: 12\n"
          ]
        }
      ],
      "source": [
        "paises = {}\n",
        "\n",
        "while True:\n",
        "    pais = input(\"Digite o nome do país (ou 'sair' para encerrar): \")\n",
        "    if pais.lower() == 'sair':\n",
        "        break\n",
        "\n",
        "    ouro = int(input(\"Digite o número de medalhas de ouro: \"))\n",
        "    prata = int(input(\"Digite o número de medalhas de prata: \"))\n",
        "    bronze = int(input(\"Digite o número de medalhas de bronze: \"))\n",
        "\n",
        "    total_medalhas = ouro + prata + bronze\n",
        "    paises[pais] = {'ouro': ouro, 'prata': prata, 'bronze': bronze, 'total': total_medalhas}\n",
        "\n",
        "ranking = sorted(paises.items(), key=lambda x: x[1]['total'], reverse=True)\n",
        "\n",
        "print(\"\\nRanking de medalhas:\")\n",
        "for i, (pais, medalhas) in enumerate(ranking, 1):\n",
        "    print(f\"{i}. {pais} - Ouro: {medalhas['ouro']}, Prata: {medalhas['prata']}, Bronze: {medalhas['bronze']}, Total: {medalhas['total']}\")"
      ]
    }
  ]
}